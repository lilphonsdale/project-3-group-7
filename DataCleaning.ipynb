{
 "cells": [
  {
   "cell_type": "code",
   "execution_count": 5,
   "id": "cdf137d0",
   "metadata": {},
   "outputs": [],
   "source": [
    "import os\n",
    "import csv\n",
    "import json"
   ]
  },
  {
   "cell_type": "code",
   "execution_count": 6,
   "id": "dcf133a7",
   "metadata": {},
   "outputs": [],
   "source": [
    "fname = [\"2015.csv\",\"2016.csv\",\"2017.csv\",\"2018.csv\",\"2019.csv\",]"
   ]
  },
  {
   "cell_type": "code",
   "execution_count": 7,
   "id": "42641b7f",
   "metadata": {},
   "outputs": [],
   "source": [
    "data = []\n",
    "json_string_start = \"\"\n",
    "json_string =\"\""
   ]
  },
  {
   "cell_type": "code",
   "execution_count": 19,
   "id": "06035381",
   "metadata": {},
   "outputs": [
    {
     "name": "stdout",
     "output_type": "stream",
     "text": [
      "{\"2015\":[{\"Country\": \"Switzerland\", \"Region\": \"Western Europe\", \"Happiness Rank\": \"1\", \"Happiness Score\": \"7.587\", \"Standard Error\": \"0.03411\", \"Economy (GDP per Capita)\": \"1.39651\", \"Family\": \"1.34951\", \"Health (Life Expectancy)\": \"0.94143\", \"Freedom\": \"0.66557\", \"Trust (Government Corruption)\": \"0.41978\", \"Generosity\": \"0.29678\", \"Dystopia Residual\": \"2.51738\"}, {\"Country\": \"Iceland\", \"Region\": \"Western Europe\", \"Happiness Rank\": \"2\", \"Happiness Score\": \"7.561\", \"Standard Error\": \"0.04884\", \"Economy (GDP per Capita)\": \"1.30232\", \"Family\": \"1.40223\", \"Health (Life Expectancy)\": \"0.94784\", \"Freedom\": \"0.62877\", \"Trust (Government Corruption)\": \"0.14145\", \"Generosity\": \"0.4363\", \"Dystopia Residual\": \"2.70201\"}, {\"Country\": \"Denmark\", \"Region\": \"Western Europe\", \"Happiness Rank\": \"3\", \"Happiness Score\": \"7.527\", \"Standard Error\": \"0.03328\", \"Economy (GDP per Capita)\": \"1.32548\", \"Family\": \"1.36058\", \"Health (Life Expectancy)\": \"0.87464\", \"Freedom\": \"0.64938\", \"Trust (Government Corruptio\n"
     ]
    }
   ],
   "source": [
    "for f in fname:\n",
    "    data_path= os.path.join(\"data\",f)\n",
    "    data_path2= os.path.join(\"data\",\"file.json\")\n",
    "    with open(data_path,'r') as csvfile: \n",
    "        reader = csv.reader(csvfile,delimiter=',')\n",
    "        year = f.replace('.csv','')\n",
    "        json_string_start='{\"'+year+'\":'\n",
    "        \n",
    "        data_list=list()\n",
    "        \n",
    "        for row in reader:\n",
    "            data_list.append(row)\n",
    "        \n",
    "        data = [dict(zip(data_list[0],row)) for row in data_list]\n",
    "        data.pop(0)\n",
    "        \n",
    "        json_string = json_string+json_string_start+json.dumps(data)+\"},\\n\"\n",
    "    \n",
    "print (json_string[0:1000])"
   ]
  },
  {
   "cell_type": "code",
   "execution_count": 20,
   "id": "62f3d53e",
   "metadata": {},
   "outputs": [],
   "source": [
    "with open(data_path2,'w+') as jsonfile:\n",
    "    jsonfile.write(json_string)"
   ]
  },
  {
   "cell_type": "code",
   "execution_count": null,
   "id": "8cd4a14f",
   "metadata": {},
   "outputs": [],
   "source": []
  }
 ],
 "metadata": {
  "kernelspec": {
   "display_name": "Python [conda env:PythonData] *",
   "language": "python",
   "name": "conda-env-PythonData-py"
  },
  "language_info": {
   "codemirror_mode": {
    "name": "ipython",
    "version": 3
   },
   "file_extension": ".py",
   "mimetype": "text/x-python",
   "name": "python",
   "nbconvert_exporter": "python",
   "pygments_lexer": "ipython3",
   "version": "3.7.15"
  }
 },
 "nbformat": 4,
 "nbformat_minor": 5
}
